{
 "cells": [
  {
   "cell_type": "markdown",
   "source": [
    "# Oxford-IIIT Pet Dataset\n",
    "This notebook is only a demo of Oxford-IIIT Pet Dataset using Torchvision API. We may not use it for development.\n",
    "\n",
    "Download the dataset and display the number of datapoints and classes:"
   ],
   "metadata": {
    "collapsed": false
   },
   "id": "869f81a424004007"
  },
  {
   "cell_type": "code",
   "execution_count": 29,
   "id": "initial_id",
   "metadata": {
    "collapsed": true,
    "ExecuteTime": {
     "end_time": "2024-03-02T16:47:22.223641Z",
     "start_time": "2024-03-02T16:47:22.200981Z"
    }
   },
   "outputs": [
    {
     "name": "stdout",
     "output_type": "stream",
     "text": [
      "Number of datapoints: 3680\n",
      "Number of classes:\t    37\n"
     ]
    }
   ],
   "source": [
    "from torchvision.datasets import OxfordIIITPet\n",
    "from random import randint\n",
    "\n",
    "\n",
    "data_category = OxfordIIITPet('.', download=True)\n",
    "length = len(data_category)\n",
    "print(\"Number of datapoints:\", length)\n",
    "classes = data_category.classes\n",
    "print(\"Number of classes:\\t   \", len(classes))"
   ]
  },
  {
   "cell_type": "markdown",
   "source": [
    "Select a random sample and display its label:"
   ],
   "metadata": {
    "collapsed": false
   },
   "id": "6098ff4bceb3f22b"
  },
  {
   "cell_type": "code",
   "outputs": [
    {
     "name": "stdout",
     "output_type": "stream",
     "text": [
      "This is a Chihuahua !\n"
     ]
    }
   ],
   "source": [
    "image, label = data_category[randint(0, length - 1)]\n",
    "print(\"This is a\", classes[label], '!')\n",
    "image.show()"
   ],
   "metadata": {
    "collapsed": false,
    "ExecuteTime": {
     "end_time": "2024-03-02T16:47:26.233322Z",
     "start_time": "2024-03-02T16:47:22.225917Z"
    }
   },
   "id": "3426332beba7ea8c",
   "execution_count": 30
  },
  {
   "cell_type": "markdown",
   "source": [
    "The above approach is for classification task. Now let's see the dataset for segmentation task:"
   ],
   "metadata": {
    "collapsed": false
   },
   "id": "a82acaffb3edff4a"
  },
  {
   "cell_type": "code",
   "outputs": [],
   "source": [
    "data_segmentation = OxfordIIITPet('.', target_types='segmentation', download=True)"
   ],
   "metadata": {
    "collapsed": false,
    "ExecuteTime": {
     "end_time": "2024-03-02T16:47:26.256474Z",
     "start_time": "2024-03-02T16:47:26.234339Z"
    }
   },
   "id": "9305a458d1fa662e",
   "execution_count": 31
  },
  {
   "cell_type": "code",
   "outputs": [],
   "source": [
    "image, label = data_segmentation[randint(0, length - 1)]\n",
    "image.show()\n",
    "label.show()"
   ],
   "metadata": {
    "collapsed": false,
    "ExecuteTime": {
     "end_time": "2024-03-02T16:47:33.102731Z",
     "start_time": "2024-03-02T16:47:26.257668Z"
    }
   },
   "id": "e60c71d91865aa17",
   "execution_count": 32
  }
 ],
 "metadata": {
  "kernelspec": {
   "display_name": "Python 3",
   "language": "python",
   "name": "python3"
  },
  "language_info": {
   "codemirror_mode": {
    "name": "ipython",
    "version": 2
   },
   "file_extension": ".py",
   "mimetype": "text/x-python",
   "name": "python",
   "nbconvert_exporter": "python",
   "pygments_lexer": "ipython2",
   "version": "2.7.6"
  }
 },
 "nbformat": 4,
 "nbformat_minor": 5
}
